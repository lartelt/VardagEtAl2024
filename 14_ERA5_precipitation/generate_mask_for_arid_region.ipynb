{
 "cells": [
  {
   "cell_type": "code",
   "execution_count": 1,
   "metadata": {},
   "outputs": [
    {
     "name": "stderr",
     "output_type": "stream",
     "text": [
      "ERROR 1: PROJ: proj_create_from_database: Open of /home/atmo/bin/anaconda3/envs/lartelt_dev/share/proj failed\n"
     ]
    }
   ],
   "source": [
    "import numpy as np\n",
    "import xarray as xr\n",
    "import pandas as pd\n",
    "import geopandas as gpd\n",
    "import matplotlib as mpl\n",
    "import matplotlib.pyplot as plt\n",
    "import matplotlib.colors as mcolors\n",
    "from shapely.ops import unary_union\n",
    "import functions_to_load_datasets as load_datasets\n",
    "\n",
    "%matplotlib inline"
   ]
  },
  {
   "cell_type": "markdown",
   "metadata": {},
   "source": [
    "## Get boundaries for arid & wet region (works)"
   ]
  },
  {
   "cell_type": "code",
   "execution_count": 1,
   "metadata": {},
   "outputs": [
    {
     "name": "stderr",
     "output_type": "stream",
     "text": [
      "ERROR 1: PROJ: proj_create_from_database: Open of /home/atmo/bin/anaconda3/envs/lartelt_dev/share/proj failed\n"
     ]
    },
    {
     "name": "stdout",
     "output_type": "stream",
     "text": [
      "start loading ERA5 data...\n",
      "<class 'geopandas.geodataframe.GeoDataFrame'>\n",
      "  aridity                                           geometry  latitude  \\\n",
      "0    arid  MULTIPOLYGON (((-71.00000 -47.00000, -71.00000...     -53.5   \n",
      "1   humid  MULTIPOLYGON (((-69.00000 -54.00000, -68.00000...     -55.5   \n",
      "\n",
      "   longitude  N_months_with_low_precip  Month_of_first_low_precip  \\\n",
      "0      -68.5                         6                          1   \n",
      "1      -67.5                         0                          1   \n",
      "\n",
      "   Month_of_last_low_precip  \\\n",
      "0                        12   \n",
      "1                        12   \n",
      "\n",
      "                                            geomPoly            geomPoint  \\\n",
      "0  POLYGON ((-69.00000 -54.00000, -69.00000 -53.0...  POINT (-68.5 -53.5)   \n",
      "1  POLYGON ((-68.00000 -56.00000, -68.00000 -55.0...  POINT (-67.5 -55.5)   \n",
      "\n",
      "   Long   Lat  transcom_regions  \n",
      "0 -68.5 -53.5               4.0  \n",
      "1 -67.5 -55.5               4.0  \n"
     ]
    },
    {
     "name": "stderr",
     "output_type": "stream",
     "text": [
      "/home/atmo/bin/anaconda3/envs/lartelt_dev/lib/python3.10/site-packages/geopandas/geodataframe.py:1351: SettingWithCopyWarning: \n",
      "A value is trying to be set on a copy of a slice from a DataFrame.\n",
      "Try using .loc[row_indexer,col_indexer] = value instead\n",
      "\n",
      "See the caveats in the documentation: https://pandas.pydata.org/pandas-docs/stable/user_guide/indexing.html#returning-a-view-versus-a-copy\n",
      "  super().__setitem__(key, value)\n"
     ]
    },
    {
     "data": {
      "text/plain": [
       "<AxesSubplot: >"
      ]
     },
     "execution_count": 1,
     "metadata": {},
     "output_type": "execute_result"
    },
    {
     "data": {
      "image/png": "[encoded data removed]",
      "text/plain": [
       "<Figure size 640x480 with 1 Axes>"
      ]
     },
     "metadata": {},
     "output_type": "display_data"
    }
   ],
   "source": [
    "import numpy as np\n",
    "import xarray as xr\n",
    "import pandas as pd\n",
    "import geopandas as gpd\n",
    "import matplotlib as mpl\n",
    "import matplotlib.pyplot as plt\n",
    "import matplotlib.colors as mcolors\n",
    "from shapely.ops import unary_union\n",
    "import functions_to_load_datasets as load_datasets\n",
    "%matplotlib inline\n",
    "\n",
    "grid = pd.read_pickle('/home/eschoema/masks/CTTranscomMask1x1Grid.pkl')\n",
    "grid_SAT = grid[grid.transcom_regions==4]\n",
    "#print(grid_SAT.head())\n",
    "CT_Mask = pd.read_pickle('/home/eschoema/masks/CTTranscomMask1x1Borders.pkl')\n",
    "\n",
    "threshold = 0.0015\n",
    "min_dry_months = 6\n",
    "\n",
    "df = load_datasets.load_ERA5_precip_gdf(region='SAT_SATr', unit='YearlyMEANLowPrecipitation', threshold=threshold)\n",
    "gdf = gpd.GeoDataFrame(df, geometry=gpd.points_from_xy(df.longitude, df.latitude), crs=\"EPSG:4326\")\n",
    "#print(gdf.head())\n",
    "igdf = gdf.within(CT_Mask[(CT_Mask.transcom == 'SAT')].geometry.iloc[0])\n",
    "gdf_SAT = gdf.loc[igdf]\n",
    "\n",
    "gdf_SAT['aridity'] = np.zeros(len(gdf_SAT), str)\n",
    "gdf_SAT['aridity'] = np.where(gdf_SAT['N_months_with_low_precip'].values>=min_dry_months, 'arid', 'humid')\n",
    "df_new = gdf_SAT.merge(grid_SAT, on=['longitude', 'latitude'], how='outer')\n",
    "gdf_new = gpd.GeoDataFrame(df_new, geometry=df_new['geometry_y'], crs=\"EPSG:4326\")\n",
    "gdf_new.drop(columns=['geometry_x', 'geometry_y'], inplace=True)\n",
    "print(type(gdf_new))\n",
    "\n",
    "polygon = gdf_new.dissolve(by='aridity').reset_index()\n",
    "print(polygon.head())\n",
    "polygon[polygon['aridity']=='humid'].plot()\n"
   ]
  },
  {
   "cell_type": "code",
   "execution_count": null,
   "metadata": {},
   "outputs": [],
   "source": []
  },
  {
   "cell_type": "code",
   "execution_count": null,
   "metadata": {},
   "outputs": [],
   "source": []
  },
  {
   "cell_type": "markdown",
   "metadata": {},
   "source": [
    "## other stuff that does not work or only generates polygons around the gridpoints, not the whole area"
   ]
  },
  {
   "cell_type": "code",
   "execution_count": 2,
   "metadata": {},
   "outputs": [
    {
     "name": "stdout",
     "output_type": "stream",
     "text": [
      "start loading ERA5 data...\n",
      "   latitude  longitude  N_months_with_low_precip  Month_of_first_low_precip  \\\n",
      "0    -55.75     -67.75                         0                          1   \n",
      "1    -55.75     -67.50                         0                          1   \n",
      "2    -55.75     -67.25                         0                          1   \n",
      "3    -55.50     -67.75                         0                          1   \n",
      "4    -55.50     -67.50                         0                          1   \n",
      "\n",
      "   Month_of_last_low_precip                     geometry  \n",
      "0                        12  POINT (-67.75000 -55.75000)  \n",
      "1                        12  POINT (-67.50000 -55.75000)  \n",
      "2                        12  POINT (-67.25000 -55.75000)  \n",
      "3                        12  POINT (-67.75000 -55.50000)  \n",
      "4                        12  POINT (-67.50000 -55.50000)  \n"
     ]
    }
   ],
   "source": [
    "threshold = 0.0005\n",
    "\n",
    "df = load_datasets.load_ERA5_precip_gdf(region='SAT_SATr', unit='YearlyMEANLowPrecipitation', threshold=threshold)\n",
    "gdf = gpd.GeoDataFrame(df, geometry=gpd.points_from_xy(df.longitude, df.latitude), crs=\"EPSG:4326\")\n",
    "print(gdf.head())"
   ]
  },
  {
   "cell_type": "code",
   "execution_count": 3,
   "metadata": {},
   "outputs": [
    {
     "name": "stdout",
     "output_type": "stream",
     "text": [
      "12\n"
     ]
    }
   ],
   "source": [
    "min_dry_months = 6\n",
    "filtered_gdf = gdf[gdf['N_months_with_low_precip'] >= min_dry_months]\n",
    "print(max(filtered_gdf.N_months_with_low_precip.values))\n"
   ]
  },
  {
   "cell_type": "code",
   "execution_count": 4,
   "metadata": {},
   "outputs": [
    {
     "name": "stdout",
     "output_type": "stream",
     "text": [
      "MULTIPOINT (-80.75 -5.75, -80.75 -5.5, -80.75 -5.25, -80.75 -5, -80.75 -4.75, -80.75 -4.5, -80.75 -4, -80.75 -3.75, -80.75 -3.5, -80.75 -3.25, -80.75 -3, -80.75 -1.25, -80.75 -1, -80.5 -5.75, -80.5 -5.5, -80.5 -5.25, -80.5 -5, -80.5 -4.75, -80.5 -4.5, -80.5 -4.25, -80.5 -3.75, -80.5 -3.5, -80.5 -3.25, -80.25 -5.75, -80.25 -5.5, -80 -5.75, -80 -5.5, -79.75 -6.75, -79.5 -6.75, -78.75 -8.75, -78.75 -8.5, -78.75 -8.25, -78.5 -8.75, -77.75 -10.5, -77.5 -10.75, -75.75 -14.75, -75.75 -14.5, -75.75 -14.25, -75.75 -14, -75.75 -13.75, -75.75 -13.5, -75.5 -14.75, -75.5 -14.5, -75.5 -14.25, -75.5 -14, -75.25 -14.75, -75.25 -14.5, -75.25 -14.25, -75 -14.75, -75 -14.5, -74.75 -14.75, -73.75 -15.75, -73.75 -15.5, -73.5 -15.75, -73.25 -15.75, -73 -15.75, -71.75 -16.75, -71.75 -16.5, -71.75 -16.25, -71.5 -16.75, -71.5 -16.5, -71.25 -16.75, -71 -16.75, -70.75 -31, -70.75 -30.25, -70.75 -30, -70.75 -29.5, -70.75 -29.25, -70.75 -29, -70.75 -28.75, -70.75 -28.5, -70.75 -28.25, -70.75 -28, -70.75 -27.75, -70.75 -27.5, -70.75 -27.25, -70.75 -27, -70.75 -17.75, -70.75 -17.5, -70.75 -17.25, -70.75 -17, -70.75 -16.75, -70.75 11.5, -70.75 11.75, -70.5 -29.25, -70.5 -29, -70.5 -28.75, -70.5 -28.5, -70.5 -28.25, -70.5 -28, -70.5 -27.75, -70.5 -27.5, -70.5 -27.25, -70.5 -27, -70.5 -17.75, -70.5 -17.5, -70.5 -17.25, -70.5 11.5, -70.5 11.75, -70.25 -29, -70.25 -28.75, -70.25 -28.5, -70.25 -28.25, -70.25 -28, -70.25 -27.75, -70.25 -27.5, -70.25 -27.25, -70.25 -27, -70.25 -17.75, -70.25 -17.5, -70.25 11.5, -70.25 11.75, -70 -28.25, -70 -28, -70 -27.75, -70 -27.5, -70 -27.25, -70 -27, -70 -17.75, -70 -17.5, -69.75 -28.25, -69.75 -28, -69.75 -27.75, -69.75 -27.5, -69.75 -27.25, -69.75 -27, -69.75 -26.75, -69.75 -26.5, -69.75 -26.25, -69.75 -26, -69.75 -25.75, -69.75 -25.5, -69.75 -25.25, -69.75 -25, -69.75 -24.75, -69.75 -24.5, -69.75 -24.25, -69.75 -24, -69.75 -23.75, -69.75 -23.5, -69.75 -23.25, -69.75 -23, -69.75 -22.75, -69.75 -22.5, -69.75 -22.25, -69.75 -22, -69.75 -21.75, -69.75 -21.5, -69.75 -21.25, -69.75 -21, -69.75 -20.75, -69.75 -20.5, -69.75 -20.25, -69.75 -20, -69.75 -19.75, -69.75 -19.5, -69.75 -19.25, -69.75 -19, -69.75 -18.75, -69.75 -18.5, -69.75 -18.25, -69.75 -18, -69.5 -27.5, -69.5 -27.25, -69.5 -27, -69.5 -26.75, -69.5 -26.5, -69.5 -26.25, -69.5 -26, -69.5 -25.75, -69.5 -25.5, -69.5 -25.25, -69.5 -25, -69.5 -24.75, -69.5 -24.5, -69.5 -24.25, -69.5 -24, -69.5 -23.75, -69.5 -23.5, -69.5 -23.25, -69.5 -23, -69.5 -22.75, -69.5 -22.5, -69.5 -22.25, -69.5 -22, -69.5 -21.75, -69.5 -21.5, -69.5 -21.25, -69.5 -21, -69.5 -20.75, -69.5 -20.5, -69.5 -20.25, -69.5 -20, -69.5 -19.75, -69.5 -19.5, -69.5 -19.25, -69.5 -19, -69.5 -18.75, -69.5 -18.5, -69.25 -29.5, -69.25 -29.25, -69.25 -28.5, -69.25 -27.25, -69.25 -26.5, -69.25 -26.25, -69.25 -26, -69.25 -25.75, -69.25 -25.5, -69.25 -25.25, -69.25 -25, -69.25 -24.75, -69.25 -24.5, -69.25 -24.25, -69.25 -24, -69.25 -23.75, -69.25 -23.5, -69.25 -23.25, -69.25 -23, -69.25 -22.75, -69.25 -22.5, -69.25 -22.25, -69.25 -22, -69.25 -21.75, -69.25 -21.5, -69.25 -21.25, -69.25 -21, -69.25 -20.75, -69.25 -20.5, -69.25 -20.25, -69.25 -20, -69.25 -19.75, -69.25 -19.5, -69.25 -19.25, -69.25 -19, -69.25 -18.75, -69.25 -18.5, -69 -44.75, -69 -44, -69 -30.25, -69 -29.25, -69 -29, -69 -28.75, -69 -26.75, -69 -26.5, -69 -26.25, -69 -26, -69 -25.75, -69 -25.5, -69 -25.25, -69 -25, -69 -24.75, -69 -24.5, -69 -24.25, -69 -24, -69 -23.75, -69 -23.5, -69 -23.25, -69 -23, -69 -22.75, -69 -22.5, -69 -22.25, -69 -22, -69 -21.75, -69 -21.5, -69 -21.25, -69 -21, -69 -20.75, -69 -20.5, -69 -20.25, -69 -20, -69 -19.75, -69 -19.5, -69 -19.25, -69 -19, -69 -18.75, -68.75 -45.75, -68.75 -45.5, -68.75 -44, -68.75 -43.75, -68.75 -38.25, -68.75 -37.5, -68.75 -30.25, -68.75 -28.75, -68.75 -28.5, -68.75 -27.5, -68.75 -26.75, -68.75 -26.5, -68.75 -26.25, -68.75 -26, -68.75 -25.75, -68.75 -25.5, -68.75 -25.25, -68.75 -25, -68.75 -24.75, -68.75 -24.5, -68.75 -24.25, -68.75 -24, -68.75 -23.75, -68.75 -23.5, -68.75 -23.25, -68.75 -23, -68.75 -22.75, -68.75 -22.5, -68.75 -22.25, -68.75 -22, -68.75 -21.75, -68.75 -21.5, -68.75 -21.25, -68.75 -21, -68.75 -20.75, -68.75 -20.5, -68.75 -20.25, -68.75 -20, -68.75 -19.75, -68.75 -19.5, -68.75 -19.25, -68.75 -19, -68.75 -18.75, -68.75 -18.5, -68.5 -45.5, -68.5 -44, -68.5 -43.75, -68.5 -37.5, -68.5 -32.75, -68.5 -30.75, -68.5 -27.5, -68.5 -27.25, -68.5 -27, -68.5 -26.75, -68.5 -26.5, -68.5 -26.25, -68.5 -26, -68.5 -25.75, -68.5 -25.5, -68.5 -25.25, -68.5 -25, -68.5 -24.75, -68.5 -24.5, -68.5 -24.25, -68.5 -24, -68.5 -23.75, -68.5 -23.5, -68.5 -23.25, -68.5 -23, -68.5 -22.75, -68.5 -22.5, -68.5 -22.25, -68.5 -22, -68.5 -21.75, -68.5 -21.5, -68.5 -21.25, -68.5 -21, -68.5 -20.75, -68.5 -20.5, -68.5 -20.25, -68.5 -20, -68.5 -19.75, -68.5 -19.5, -68.5 -19.25, -68.5 -19, -68.5 -18.75, -68.5 -18.5, -68.25 -44, -68.25 -43.75, -68.25 -31, -68.25 -30.75, -68.25 -30.5, -68.25 -30.25, -68.25 -30, -68.25 -29.75, -68.25 -26.75, -68.25 -26.5, -68.25 -26.25, -68.25 -26, -68.25 -25.75, -68.25 -25.5, -68.25 -25.25, -68.25 -25, -68.25 -24.75, -68.25 -24.5, -68.25 -24.25, -68.25 -24, -68.25 -23.75, -68.25 -23.5, -68.25 -23.25, -68.25 -23, -68.25 -22.75, -68.25 -22.5, -68.25 -22.25, -68.25 -22, -68.25 -21.75, -68.25 -21.5, -68.25 -21.25, -68.25 -21, -68.25 -20.75, -68.25 -20.5, -68.25 -20.25, -68.25 -20, -68.25 -19.75, -68.25 -19.5, -68.25 -19.25, -68.25 -19, -68.25 -18.75, -68 -47.75, -68 -47.5, -68 -46.25, -68 -44, -68 -43.5, -68 -31, -68 -30.75, -68 -30.5, -68 -30.25, -68 -30, -68 -29.75, -68 -29.5, -68 -29.25, -68 -29, -68 -28.75, -68 -27, -68 -26.75, -68 -26.5, -68 -26.25, -68 -26, -68 -25.75, -68 -25.5, -68 -25.25, -68 -25, -68 -24.75, -68 -24.5, -68 -24.25, -68 -24, -68 -23.75, -68 -23.5, -68 -23.25, -68 -23, -68 -22.75, -68 -22.5, -68 -22.25, -68 -22, -68 -21.75, -68 -21.5, -68 -21.25, -68 -21, -68 -20.75, -68 -20.5, -68 -20.25, -68 -20, -68 -19.75, -68 -19.5, -68 -19.25, -68 -19, -68 -18.75, -67.75 -47.75, -67.75 -47.5, -67.75 -47.25, -67.75 -46.25, -67.75 -43.75, -67.75 -43.5, -67.75 -31, -67.75 -27, -67.75 -26.75, -67.75 -26.5, -67.75 -26.25, -67.75 -26, -67.75 -25.75, -67.75 -25.5, -67.75 -25.25, -67.75 -25, -67.75 -24.75, -67.75 -24.5, -67.75 -24.25, -67.75 -24, -67.75 -23.75, -67.75 -23.5, -67.75 -23, -67.75 -22.75, -67.75 -22.5, -67.75 -22.25, -67.75 -22, -67.75 -21.75, -67.75 -21.5, -67.75 -21.25, -67.75 -21, -67.75 -20.75, -67.75 -20.5, -67.75 -20.25, -67.75 -20, -67.75 -19.75, -67.75 -19.5, -67.75 -19.25, -67.75 -19, -67.5 -47.75, -67.5 -47.5, -67.5 -47.25, -67.5 -46.25, -67.5 -27.75, -67.5 -27.5, -67.5 -27.25, -67.5 -27, -67.5 -26.75, -67.5 -26.5, -67.5 -26.25, -67.5 -26, -67.5 -25.75, -67.5 -25.5, -67.5 -25.25, -67.5 -25, -67.5 -24.75, -67.5 -24.5, -67.5 -24.25, -67.5 -24, -67.5 -23.25, -67.5 -23, -67.5 -22.75, -67.5 -22.5, -67.5 -22.25, -67.5 -22, -67.5 -21.75, -67.5 -21.5, -67.5 -21.25, -67.5 -21, -67.5 -20.75, -67.5 -20.5, -67.5 -20.25, -67.5 -20, -67.5 -19.75, -67.5 -19.5, -67.5 -19.25, -67.25 -47.75, -67.25 -47.5, -67.25 -47.25, -67.25 -46.5, -67.25 -46.25, -67.25 -46, -67.25 -28.25, -67.25 -28, -67.25 -26.75, -67.25 -26.5, -67.25 -26.25, -67.25 -26, -67.25 -25.75, -67.25 -25.5, -67.25 -25.25, -67.25 -25, -67.25 -24.75, -67.25 -24.5, -67.25 -24.25, -67.25 -24, -67.25 -23.75, -67.25 -23.5, -67.25 -23.25, -67.25 -23, -67.25 -22.75, -67.25 -22.5, -67.25 -22.25, -67.25 -22, -67.25 -21.75, -67.25 -21.5, -67.25 -21.25, -67.25 -21, -67.25 -20.75, -67.25 -20.5, -67.25 -20.25, -67.25 -20, -67.25 -19.75, -67 -47.75, -67 -47.5, -67 -47.25, -67 -43.25, -67 -28.25, -67 -28, -67 -26.75, -67 -26.5, -67 -26.25, -67 -26, -67 -25.75, -67 -25.5, -67 -25.25, -67 -25, -67 -24.75, -67 -24.5, -67 -24.25, -67 -24, -67 -23.75, -67 -23.5, -67 -23.25, -67 -23, -67 -22.75, -67 -22.5, -67 -22.25, -67 -22, -67 -21.75, -67 -21.5, -67 -21.25, -67 -21, -67 -20.75, -67 -20.5, -67 -20.25, -67 -20, -66.75 -47.5, -66.75 -47.25, -66.75 -43.25, -66.75 -43, -66.75 -42.75, -66.75 -28.25, -66.75 -28, -66.75 -26.5, -66.75 -26.25, -66.75 -25.25, -66.75 -25, -66.75 -24.75, -66.75 -24.5, -66.75 -24.25, -66.75 -24, -66.75 -23.75, -66.75 -23.5, -66.75 -23.25, -66.75 -23, -66.75 -22.75, -66.75 -22.5, -66.75 -22.25, -66.75 -22, -66.75 -21.75, -66.75 -21.5, -66.75 -21.25, -66.75 -21, -66.75 -20.75, -66.75 -20.5, -66.75 -20.25, -66.5 -47.25, -66.5 -47, -66.5 -43.25, -66.5 -43, -66.5 -28.75, -66.5 -28.5, -66.5 -28.25, -66.5 -25, -66.5 -24.75, -66.5 -24.5, -66.5 -24.25, -66.5 -24, -66.5 -23.75, -66.5 -23.5, -66.5 -23.25, -66.5 -23, -66.5 -22.75, -66.5 -22.5, -66.5 -22.25, -66.5 -22, -66.5 -21.75, -66.5 -21.5, -66.5 -21.25, -66.5 -21, -66.5 -20.75, -66.5 -20.5, -66.25 -47, -66.25 -44, -66.25 -43.75, -66.25 -43.5, -66.25 -28.25, -66.25 -28, -66.25 -27, -66.25 -24.75, -66.25 -24.5, -66.25 -24.25, -66.25 -24, -66.25 -23.75, -66.25 -23.5, -66.25 -23.25, -66.25 -23, -66.25 -22.25, -66.25 -22, -66.25 -21.75, -66.25 -21, -66 -43.75, -66 -43.5, -66 -43.25, -66 -26.75, -66 -24.5, -66 -24.25, -66 -24, -66 -23.75, -66 -23.5, -66 -23.25, -66 -23, -65.75 -43.5, -65.75 -23.75, -65.75 -23.5, -65.75 -23.25, -65.5 -22.25, -65.5 -22, -41.5 -6.25, -41.25 -9.5, -41.25 -9.25, -41.25 -7, -41.25 -6.75, -41.25 -6.5, -41.25 -6.25, -41 -9.5, -41 -9.25, -41 -7, -41 -6.75, -40.75 -9.75, -40.75 -9.5, -40.75 -7.25, -40.75 -7, -40.75 -6.75, -40.75 -6.25, -40.75 -6, -40.5 -9.75, -40.5 -9.5, -40.5 -7, -40.5 -6.75, -40.5 -6.25, -40.25 -9.75, -40.25 -7, -40 -9.25, -40 -9, -40 -8.75, -39.75 -9, -39.75 -8.75, -39.5 -9, -39.5 -8.75, -39.25 -9.25, -39.25 -9, -39 -9.25, -38.75 -8, -38.75 -7.75, -38.75 -7.5, -38.25 -7.5, -38.25 -7.25, -38 -7.5, -38 -7.25, -37.75 -7.25, -37.5 -7.25, -37.5 -7, -37.25 -7.25, -37.25 -7, -37 -7)\n"
     ]
    }
   ],
   "source": [
    "# Convert the geometry column to a single polygon\n",
    "dissolved_geometry = unary_union(filtered_gdf['geometry'])\n",
    "print(dissolved_geometry)"
   ]
  },
  {
   "cell_type": "code",
   "execution_count": 5,
   "metadata": {},
   "outputs": [],
   "source": [
    "dissolved_gdf = gpd.GeoDataFrame(geometry=[dissolved_geometry])\n",
    "dissolved_gdf.crs = gdf.crs  # Set the CRS of \"dissolved_gdf\" to the CRS of \"gdf\""
   ]
  },
  {
   "cell_type": "code",
   "execution_count": 6,
   "metadata": {},
   "outputs": [
    {
     "data": {
      "text/plain": [
       "<AxesSubplot: >"
      ]
     },
     "execution_count": 6,
     "metadata": {},
     "output_type": "execute_result"
    },
    {
     "data": {
      "image/png": "[encoded data removed]",
      "text/plain": [
       "<Figure size 640x480 with 1 Axes>"
      ]
     },
     "metadata": {},
     "output_type": "display_data"
    }
   ],
   "source": [
    "ax = dissolved_gdf.plot()\n",
    "filtered_gdf.plot(ax=ax, facecolor='none', edgecolor='red')"
   ]
  },
  {
   "cell_type": "markdown",
   "metadata": {},
   "source": [
    "## for not continious data"
   ]
  },
  {
   "cell_type": "code",
   "execution_count": 2,
   "metadata": {},
   "outputs": [],
   "source": [
    "import numpy as np\n",
    "import xarray as xr\n",
    "import pandas as pd\n",
    "import geopandas as gpd\n",
    "import matplotlib as mpl\n",
    "import matplotlib.pyplot as plt\n",
    "import matplotlib.colors as mcolors\n",
    "from shapely.ops import unary_union\n",
    "from skimage import measure\n",
    "import functions_to_load_datasets as load_datasets\n",
    "\n",
    "%matplotlib inline"
   ]
  },
  {
   "cell_type": "code",
   "execution_count": null,
   "metadata": {},
   "outputs": [],
   "source": []
  },
  {
   "cell_type": "code",
   "execution_count": null,
   "metadata": {},
   "outputs": [],
   "source": [
    "\n",
    "threshold = 0.0005\n",
    "\n",
    "df = load_datasets.load_ERA5_precip_gdf(region='SAT_SATr', unit='YearlyMEANLowPrecipitation', threshold=threshold)\n",
    "gdf = gpd.GeoDataFrame(df, geometry=gpd.points_from_xy(df.longitude, df.latitude), crs=\"EPSG:4326\")\n",
    "\n",
    "min_dry_months = 6\n",
    "\n",
    "# generate polygons around the regions where the number of dry months is above the threshold\n",
    "filtered_gdf = gdf[gdf['N_months_with_low_precip'] >= min_dry_months]\n",
    "# regrid the data to a raster with latitude, longitude coordinates\n",
    "\n",
    "\n",
    "\n",
    "# find contours of the raster\n",
    "contours = measure.find_contours(raster, 6)\n",
    "\n",
    "\n",
    "\n"
   ]
  },
  {
   "cell_type": "code",
   "execution_count": null,
   "metadata": {},
   "outputs": [],
   "source": []
  },
  {
   "cell_type": "code",
   "execution_count": 2,
   "metadata": {},
   "outputs": [
    {
     "name": "stdout",
     "output_type": "stream",
     "text": [
      "start loading ERA5 data...\n",
      "   latitude  longitude  N_months_with_low_precip  Month_of_first_low_precip  \\\n",
      "0    -55.75     -67.75                         0                          1   \n",
      "1    -55.75     -67.50                         0                          1   \n",
      "2    -55.75     -67.25                         0                          1   \n",
      "3    -55.50     -67.75                         0                          1   \n",
      "4    -55.50     -67.50                         0                          1   \n",
      "\n",
      "   Month_of_last_low_precip                     geometry  \n",
      "0                        12  POINT (-67.75000 -55.75000)  \n",
      "1                        12  POINT (-67.50000 -55.75000)  \n",
      "2                        12  POINT (-67.25000 -55.75000)  \n",
      "3                        12  POINT (-67.75000 -55.50000)  \n",
      "4                        12  POINT (-67.50000 -55.50000)  \n"
     ]
    }
   ],
   "source": [
    "threshold = 0.0005\n",
    "\n",
    "df = load_datasets.load_ERA5_precip_gdf(region='SAT_SATr', unit='YearlyMEANLowPrecipitation', threshold=threshold)\n",
    "gdf = gpd.GeoDataFrame(df, geometry=gpd.points_from_xy(df.longitude, df.latitude), crs=\"EPSG:4326\")\n",
    "print(gdf.head())"
   ]
  },
  {
   "cell_type": "code",
   "execution_count": 4,
   "metadata": {},
   "outputs": [
    {
     "ename": "ValueError",
     "evalue": "cannot reshape array of size 24625 into shape (24625,24625)",
     "output_type": "error",
     "traceback": [
      "\u001b[0;31m---------------------------------------------------------------------------\u001b[0m",
      "\u001b[0;31mValueError\u001b[0m                                Traceback (most recent call last)",
      "\u001b[1;32m/home/lartelt/MA/software/14_ERA5_precipitation/generate_mask_for_arid_region.ipynb Cell 10\u001b[0m in \u001b[0;36m<cell line: 5>\u001b[0;34m()\u001b[0m\n\u001b[1;32m      <a href='vscode-notebook-cell://ssh-remote%2Biup/home/lartelt/MA/software/14_ERA5_precipitation/generate_mask_for_arid_region.ipynb#X13sdnNjb2RlLXJlbW90ZQ%3D%3D?line=0'>1</a>\u001b[0m min_dry_months \u001b[39m=\u001b[39m \u001b[39m6\u001b[39m\n\u001b[1;32m      <a href='vscode-notebook-cell://ssh-remote%2Biup/home/lartelt/MA/software/14_ERA5_precipitation/generate_mask_for_arid_region.ipynb#X13sdnNjb2RlLXJlbW90ZQ%3D%3D?line=1'>2</a>\u001b[0m \u001b[39m#filtered_gdf = gdf[gdf['N_months_with_low_precip'] >= min_dry_months]\u001b[39;00m\n\u001b[1;32m      <a href='vscode-notebook-cell://ssh-remote%2Biup/home/lartelt/MA/software/14_ERA5_precipitation/generate_mask_for_arid_region.ipynb#X13sdnNjb2RlLXJlbW90ZQ%3D%3D?line=2'>3</a>\u001b[0m \u001b[39m#print(max(filtered_gdf.N_months_with_low_precip.values))\u001b[39;00m\n\u001b[0;32m----> <a href='vscode-notebook-cell://ssh-remote%2Biup/home/lartelt/MA/software/14_ERA5_precipitation/generate_mask_for_arid_region.ipynb#X13sdnNjb2RlLXJlbW90ZQ%3D%3D?line=4'>5</a>\u001b[0m raster \u001b[39m=\u001b[39m gdf[\u001b[39m'\u001b[39;49m\u001b[39mN_months_with_low_precip\u001b[39;49m\u001b[39m'\u001b[39;49m]\u001b[39m.\u001b[39;49mvalues\u001b[39m.\u001b[39;49mreshape(\u001b[39mlen\u001b[39;49m(gdf[\u001b[39m'\u001b[39;49m\u001b[39mlatitude\u001b[39;49m\u001b[39m'\u001b[39;49m]\u001b[39m.\u001b[39;49mvalues), \u001b[39mlen\u001b[39;49m(gdf[\u001b[39m'\u001b[39;49m\u001b[39mlongitude\u001b[39;49m\u001b[39m'\u001b[39;49m]\u001b[39m.\u001b[39;49mvalues))\n\u001b[1;32m      <a href='vscode-notebook-cell://ssh-remote%2Biup/home/lartelt/MA/software/14_ERA5_precipitation/generate_mask_for_arid_region.ipynb#X13sdnNjb2RlLXJlbW90ZQ%3D%3D?line=5'>6</a>\u001b[0m \u001b[39mprint\u001b[39m(raster)\n\u001b[1;32m      <a href='vscode-notebook-cell://ssh-remote%2Biup/home/lartelt/MA/software/14_ERA5_precipitation/generate_mask_for_arid_region.ipynb#X13sdnNjb2RlLXJlbW90ZQ%3D%3D?line=7'>8</a>\u001b[0m \u001b[39m# Find contours around the regions with the specified value\u001b[39;00m\n",
      "\u001b[0;31mValueError\u001b[0m: cannot reshape array of size 24625 into shape (24625,24625)"
     ]
    }
   ],
   "source": [
    "min_dry_months = 6\n",
    "#filtered_gdf = gdf[gdf['N_months_with_low_precip'] >= min_dry_months]\n",
    "#print(max(filtered_gdf.N_months_with_low_precip.values))\n",
    "\n",
    "raster = gdf['N_months_with_low_precip'].values.reshape(len(gdf['latitude'].values), len(gdf['longitude'].values))\n",
    "print(raster)\n",
    "\n",
    "# Find contours around the regions with the specified value\n",
    "contours = measure.find_contours(np.where(raster >= min_dry_months, 1, 0), 0.5)"
   ]
  },
  {
   "cell_type": "code",
   "execution_count": null,
   "metadata": {},
   "outputs": [],
   "source": []
  },
  {
   "cell_type": "markdown",
   "metadata": {},
   "source": [
    "## new approach"
   ]
  },
  {
   "cell_type": "code",
   "execution_count": 1,
   "metadata": {},
   "outputs": [
    {
     "name": "stderr",
     "output_type": "stream",
     "text": [
      "ERROR 1: PROJ: proj_create_from_database: Open of /home/atmo/bin/anaconda3/envs/lartelt_dev/share/proj failed\n"
     ]
    },
    {
     "name": "stdout",
     "output_type": "stream",
     "text": [
      "start loading ERA5 data...\n"
     ]
    },
    {
     "ename": "IndexError",
     "evalue": "tuple index out of range",
     "output_type": "error",
     "traceback": [
      "\u001b[0;31m---------------------------------------------------------------------------\u001b[0m",
      "\u001b[0;31mIndexError\u001b[0m                                Traceback (most recent call last)",
      "\u001b[1;32m/home/lartelt/MA/software/14_ERA5_precipitation/generate_mask_for_arid_region.ipynb Cell 13\u001b[0m in \u001b[0;36m<cell line: 19>\u001b[0;34m()\u001b[0m\n\u001b[1;32m     <a href='vscode-notebook-cell://ssh-remote%2Biup/home/lartelt/MA/software/14_ERA5_precipitation/generate_mask_for_arid_region.ipynb#X21sdnNjb2RlLXJlbW90ZQ%3D%3D?line=15'>16</a>\u001b[0m value_to_extract \u001b[39m=\u001b[39m \u001b[39m6\u001b[39m\n\u001b[1;32m     <a href='vscode-notebook-cell://ssh-remote%2Biup/home/lartelt/MA/software/14_ERA5_precipitation/generate_mask_for_arid_region.ipynb#X21sdnNjb2RlLXJlbW90ZQ%3D%3D?line=17'>18</a>\u001b[0m \u001b[39m# Find contours around the regions with the specified value\u001b[39;00m\n\u001b[0;32m---> <a href='vscode-notebook-cell://ssh-remote%2Biup/home/lartelt/MA/software/14_ERA5_precipitation/generate_mask_for_arid_region.ipynb#X21sdnNjb2RlLXJlbW90ZQ%3D%3D?line=18'>19</a>\u001b[0m contours \u001b[39m=\u001b[39m measure\u001b[39m.\u001b[39;49mfind_contours(gdf\u001b[39m.\u001b[39;49mN_months_with_low_precip\u001b[39m.\u001b[39;49mvalues, \u001b[39m6\u001b[39;49m)\n\u001b[1;32m     <a href='vscode-notebook-cell://ssh-remote%2Biup/home/lartelt/MA/software/14_ERA5_precipitation/generate_mask_for_arid_region.ipynb#X21sdnNjb2RlLXJlbW90ZQ%3D%3D?line=20'>21</a>\u001b[0m fig, ax \u001b[39m=\u001b[39m plt\u001b[39m.\u001b[39msubplots()\n\u001b[1;32m     <a href='vscode-notebook-cell://ssh-remote%2Biup/home/lartelt/MA/software/14_ERA5_precipitation/generate_mask_for_arid_region.ipynb#X21sdnNjb2RlLXJlbW90ZQ%3D%3D?line=21'>22</a>\u001b[0m \u001b[39mfor\u001b[39;00m contour \u001b[39min\u001b[39;00m contours:\n",
      "File \u001b[0;32m/home/atmo/bin/anaconda3/envs/lartelt_dev/lib/python3.10/site-packages/skimage/measure/_find_contours.py:133\u001b[0m, in \u001b[0;36mfind_contours\u001b[0;34m(image, level, fully_connected, positive_orientation, mask)\u001b[0m\n\u001b[1;32m    130\u001b[0m \u001b[39mif\u001b[39;00m positive_orientation \u001b[39mnot\u001b[39;00m \u001b[39min\u001b[39;00m _param_options:\n\u001b[1;32m    131\u001b[0m     \u001b[39mraise\u001b[39;00m \u001b[39mValueError\u001b[39;00m(\u001b[39m'\u001b[39m\u001b[39mParameters \u001b[39m\u001b[39m\"\u001b[39m\u001b[39mpositive_orientation\u001b[39m\u001b[39m\"\u001b[39m\u001b[39m must be either \u001b[39m\u001b[39m'\u001b[39m\n\u001b[1;32m    132\u001b[0m                      \u001b[39m'\u001b[39m\u001b[39m\"\u001b[39m\u001b[39mhigh\u001b[39m\u001b[39m\"\u001b[39m\u001b[39m or \u001b[39m\u001b[39m\"\u001b[39m\u001b[39mlow\u001b[39m\u001b[39m\"\u001b[39m\u001b[39m.\u001b[39m\u001b[39m'\u001b[39m)\n\u001b[0;32m--> 133\u001b[0m \u001b[39mif\u001b[39;00m image\u001b[39m.\u001b[39mshape[\u001b[39m0\u001b[39m] \u001b[39m<\u001b[39m \u001b[39m2\u001b[39m \u001b[39mor\u001b[39;00m image\u001b[39m.\u001b[39;49mshape[\u001b[39m1\u001b[39;49m] \u001b[39m<\u001b[39m \u001b[39m2\u001b[39m:\n\u001b[1;32m    134\u001b[0m     \u001b[39mraise\u001b[39;00m \u001b[39mValueError\u001b[39;00m(\u001b[39m\"\u001b[39m\u001b[39mInput array must be at least 2x2.\u001b[39m\u001b[39m\"\u001b[39m)\n\u001b[1;32m    135\u001b[0m \u001b[39mif\u001b[39;00m image\u001b[39m.\u001b[39mndim \u001b[39m!=\u001b[39m \u001b[39m2\u001b[39m:\n",
      "\u001b[0;31mIndexError\u001b[0m: tuple index out of range"
     ]
    }
   ],
   "source": [
    "import geopandas as gpd\n",
    "from shapely.geometry import Polygon\n",
    "from skimage import measure\n",
    "import numpy as np\n",
    "import functions_to_load_datasets as load_datasets\n",
    "import matplotlib.pyplot as plt\n",
    "%matplotlib inline\n",
    "\n",
    "# Load your GeoDataFrame (replace 'your_data.shp' with your file)\n",
    "threshold = 0.0005\n",
    "\n",
    "df = load_datasets.load_ERA5_precip_gdf(region='SAT_SATr', unit='YearlyMEANLowPrecipitation', threshold=threshold)\n",
    "gdf = gpd.GeoDataFrame(df, geometry=gpd.points_from_xy(df.longitude, df.latitude), crs=\"EPSG:4326\")\n",
    "\n",
    "# Assuming your GeoDataFrame has \"latitude\", \"longitude\", and \"values\" columns\n",
    "value_to_extract = 6\n",
    "\n",
    "# Find contours around the regions with the specified value\n",
    "contours = measure.find_contours(gdf.N_months_with_low_precip.values, 6)\n",
    "\n",
    "fig, ax = plt.subplots()\n",
    "for contour in contours:\n",
    "    ax.plot(contour[:, 1], contour[:, 0], linewidth=2)\n",
    "plt.show()\n",
    "\n"
   ]
  },
  {
   "cell_type": "code",
   "execution_count": null,
   "metadata": {},
   "outputs": [],
   "source": []
  },
  {
   "cell_type": "code",
   "execution_count": null,
   "metadata": {},
   "outputs": [],
   "source": []
  },
  {
   "cell_type": "code",
   "execution_count": null,
   "metadata": {},
   "outputs": [],
   "source": [
    "import geopandas as gpd\n",
    "from shapely.geometry import Polygon\n",
    "from skimage import measure\n",
    "import numpy as np\n",
    "import functions_to_load_datasets as load_datasets\n",
    "import matplotlib.pyplot as plt\n",
    "%matplotlib inline\n",
    "\n",
    "# Load your GeoDataFrame (replace 'your_data.shp' with your file)\n",
    "threshold = 0.0005\n",
    "\n",
    "df = load_datasets.load_ERA5_precip_gdf(region='SAT_SATr', unit='YearlyMEANLowPrecipitation', threshold=threshold)\n",
    "gdf = gpd.GeoDataFrame(df, geometry=gpd.points_from_xy(df.longitude, df.latitude), crs=\"EPSG:4326\")\n",
    "\n",
    "# Assuming your GeoDataFrame has \"latitude\", \"longitude\", and \"values\" columns\n",
    "value_to_extract = 6\n",
    "\n",
    "# Determine grid resolution (adjust as needed)\n",
    "grid_resolution = 0.25\n",
    "\n",
    "# Create a regular grid of latitudes and longitudes\n",
    "min_lat = gdf['latitude'].min()\n",
    "max_lat = gdf['latitude'].max()\n",
    "min_lon = gdf['longitude'].min()\n",
    "max_lon = gdf['longitude'].max()\n",
    "\n",
    "latitudes = np.arange(min_lat, max_lat + grid_resolution, grid_resolution)\n",
    "longitudes = np.arange(min_lon, max_lon + grid_resolution, grid_resolution)\n",
    "\n",
    "# Create a meshgrid from latitudes and longitudes\n",
    "lon_grid, lat_grid = np.meshgrid(longitudes, latitudes)\n",
    "\n",
    "# Create an empty grid with NaN values\n",
    "raster = np.full_like(lat_grid, np.nan)\n",
    "\n",
    "# Fill the grid with values from the GeoDataFrame\n",
    "for row in gdf.iterrows():\n",
    "    #lat_idx = int((row[1]['latitude'] - min_lat) / grid_resolution)\n",
    "    lat_idx = int((row[1]['latitude'] - min_lat) / grid_resolution)\n",
    "    #lon_idx = int((row[1]['longitude'] - min_lon) / grid_resolution)\n",
    "    lon_idx = int((row[1]['longitude'] - min_lon) / grid_resolution)\n",
    "    raster[lat_idx, lon_idx] = row[1]['N_months_with_low_precip']\n",
    "\n",
    "# Find contours around the regions with the specified value\n",
    "contours = measure.find_contours(np.where(np.isnan(raster), 0, raster == value_to_extract))\n",
    "\n",
    "fig, ax = plt.subplots()\n",
    "for contour in contours:\n",
    "    ax.plot(contour[:, 1], contour[:, 0], linewidth=2)\n",
    "plt.show()\n",
    "\n",
    "\n",
    "'''# Convert contours to GeoDataFrame\n",
    "boundary_geoms = [Polygon(contour[:, ::-1]) for contour in contours]  # Invert y-axis to match GeoDataFrame orientation\n",
    "boundary_gdf = gpd.GeoDataFrame(geometry=boundary_geoms, crs=gdf.crs)\n",
    "\n",
    "# Filter out empty or invalid geometries\n",
    "boundary_gdf = boundary_gdf[~boundary_gdf.is_empty]\n",
    "\n",
    "# Plot the generated boundaries\n",
    "fig, ax = plt.subplots(figsize=(10, 10))  # Adjust the figure size as needed\n",
    "boundary_gdf.plot(ax=ax)\n",
    "\n",
    "# Show the plot\n",
    "plt.show()\n",
    "'''"
   ]
  }
 ],
 "metadata": {
  "kernelspec": {
   "display_name": "lartelt_dev",
   "language": "python",
   "name": "python3"
  },
  "language_info": {
   "codemirror_mode": {
    "name": "ipython",
    "version": 3
   },
   "file_extension": ".py",
   "mimetype": "text/x-python",
   "name": "python",
   "nbconvert_exporter": "python",
   "pygments_lexer": "ipython3",
   "version": "3.10.6"
  },
  "orig_nbformat": 4
 },
 "nbformat": 4,
 "nbformat_minor": 2
}
